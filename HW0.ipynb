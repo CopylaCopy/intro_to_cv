{
 "cells": [
  {
   "cell_type": "code",
   "execution_count": 8,
   "id": "4fbd7821",
   "metadata": {},
   "outputs": [],
   "source": [
    "import cv2\n",
    "import numpy as np"
   ]
  },
  {
   "cell_type": "code",
   "execution_count": 5,
   "id": "44447a7e",
   "metadata": {},
   "outputs": [],
   "source": [
    "img = cv2.imread('pepega.png')"
   ]
  },
  {
   "cell_type": "code",
   "execution_count": 15,
   "id": "8df88c55",
   "metadata": {},
   "outputs": [],
   "source": [
    "arr = np.array((np.mean(img), np.std(img)))"
   ]
  },
  {
   "cell_type": "code",
   "execution_count": 16,
   "id": "03c89396",
   "metadata": {},
   "outputs": [],
   "source": [
    "np.save('model.npy',arr )"
   ]
  },
  {
   "cell_type": "code",
   "execution_count": null,
   "id": "3d042679",
   "metadata": {},
   "outputs": [],
   "source": [
    "def predict(img: np.ndarray, model_path: str) -> np.ndarray:\n",
    "    model = np.load(model_path)   \n",
    "    return (img - model[0])/model[1]\n",
    "\n",
    "def train(img: np.ndarray, save_model_path: str) -> None:\n",
    "    arr = np.array((np.mean(img), np.std(img)))\n",
    "    np.save(save_model_path + 'model.npy', arr+'model.npy')"
   ]
  },
  {
   "cell_type": "code",
   "execution_count": 18,
   "id": "3f37b749",
   "metadata": {},
   "outputs": [
    {
     "data": {
      "text/plain": [
       "array([54.26754322, 73.24830192])"
      ]
     },
     "execution_count": 18,
     "metadata": {},
     "output_type": "execute_result"
    }
   ],
   "source": [
    "np.load('model.npy')"
   ]
  },
  {
   "cell_type": "code",
   "execution_count": 17,
   "id": "3e5b5ea3",
   "metadata": {},
   "outputs": [
    {
     "data": {
      "text/plain": [
       "array([54.26754322, 73.24830192])"
      ]
     },
     "execution_count": 17,
     "metadata": {},
     "output_type": "execute_result"
    }
   ],
   "source": [
    "arr"
   ]
  },
  {
   "cell_type": "code",
   "execution_count": 22,
   "id": "c1ed0f54",
   "metadata": {},
   "outputs": [
    {
     "data": {
      "text/plain": [
       "array([  0,   4,   5,   6,   7,   8,   9,  10,  11,  12,  13,  14,  15,\n",
       "        16,  17,  18,  19,  20,  21,  22,  23,  24,  25,  26,  27,  28,\n",
       "        29,  30,  31,  32,  33,  34,  35,  36,  37,  38,  39,  40,  41,\n",
       "        42,  43,  44,  45,  46,  47,  48,  49,  50,  51,  52,  53,  54,\n",
       "        55,  56,  57,  58,  59,  60,  61,  62,  63,  64,  65,  66,  67,\n",
       "        68,  69,  70,  71,  72,  73,  74,  75,  76,  77,  78,  79,  80,\n",
       "        81,  82,  83,  84,  85,  86,  87,  88,  89,  90,  91,  92,  93,\n",
       "        94,  95,  96,  97,  98,  99, 100, 101, 102, 103, 104, 105, 106,\n",
       "       107, 108, 109, 110, 111, 112, 113, 114, 115, 116, 117, 118, 119,\n",
       "       120, 121, 122, 123, 124, 125, 126, 127, 128, 129, 130, 131, 132,\n",
       "       133, 134, 135, 136, 137, 138, 139, 140, 141, 142, 144, 145, 146,\n",
       "       147, 148, 149, 150, 151, 152, 153, 154, 155, 156, 158, 161, 162,\n",
       "       163, 164, 165, 166, 167, 168, 169, 170, 171, 172, 173, 174, 175,\n",
       "       176, 177, 179, 180, 181, 182, 183, 184, 185, 186, 187, 188, 189,\n",
       "       191, 192, 193, 194, 195, 196, 197, 198, 199, 200, 201, 203, 204,\n",
       "       205, 206, 207, 208, 209, 210, 211, 212, 213, 214, 215, 216, 218,\n",
       "       219, 220, 221, 222, 223, 224, 225, 226, 227, 228, 229, 230, 231,\n",
       "       232, 255], dtype=uint8)"
      ]
     },
     "execution_count": 22,
     "metadata": {},
     "output_type": "execute_result"
    }
   ],
   "source": [
    "np.unique(img)"
   ]
  },
  {
   "cell_type": "code",
   "execution_count": null,
   "id": "36ca928d",
   "metadata": {},
   "outputs": [],
   "source": []
  }
 ],
 "metadata": {
  "kernelspec": {
   "display_name": "Python 3 (ipykernel)",
   "language": "python",
   "name": "python3"
  },
  "language_info": {
   "codemirror_mode": {
    "name": "ipython",
    "version": 3
   },
   "file_extension": ".py",
   "mimetype": "text/x-python",
   "name": "python",
   "nbconvert_exporter": "python",
   "pygments_lexer": "ipython3",
   "version": "3.9.12"
  }
 },
 "nbformat": 4,
 "nbformat_minor": 5
}
